{
 "cells": [
  {
   "cell_type": "markdown",
   "metadata": {},
   "source": [
    "#### Sentence Transformation and Embeddings"
   ]
  },
  {
   "cell_type": "markdown",
   "metadata": {},
   "source": [
    "#### Acknowledgements"
   ]
  },
  {
   "cell_type": "markdown",
   "metadata": {},
   "source": [
    "- https://huggingface.co/sentence-transformers/paraphrase-multilingual-mpnet-base-v2"
   ]
  },
  {
   "cell_type": "markdown",
   "metadata": {},
   "source": [
    "#### Packages"
   ]
  },
  {
   "cell_type": "code",
   "execution_count": 1,
   "metadata": {},
   "outputs": [],
   "source": [
    "import sentence_transformers as pkg_sentence_transformers"
   ]
  },
  {
   "cell_type": "markdown",
   "metadata": {},
   "source": [
    "#### Play"
   ]
  },
  {
   "cell_type": "code",
   "execution_count": 2,
   "metadata": {},
   "outputs": [
    {
     "name": "stderr",
     "output_type": "stream",
     "text": [
      "Downloading: 100%|██████████| 690/690 [00:00<00:00, 510kB/s]\n",
      "Downloading: 100%|██████████| 190/190 [00:00<00:00, 203kB/s]\n",
      "Downloading: 100%|██████████| 3.77k/3.77k [00:00<00:00, 1.95MB/s]\n",
      "Downloading: 100%|██████████| 723/723 [00:00<00:00, 421kB/s]\n",
      "Downloading: 100%|██████████| 122/122 [00:00<00:00, 42.3kB/s]\n",
      "Downloading: 100%|██████████| 1.11G/1.11G [00:43<00:00, 25.5MB/s]\n",
      "Downloading: 100%|██████████| 53.0/53.0 [00:00<00:00, 11.8kB/s]\n",
      "Downloading: 100%|██████████| 5.07M/5.07M [00:00<00:00, 14.7MB/s]\n",
      "Downloading: 100%|██████████| 239/239 [00:00<00:00, 95.4kB/s]\n",
      "Downloading: 100%|██████████| 9.08M/9.08M [00:05<00:00, 1.55MB/s]\n",
      "Downloading: 100%|██████████| 402/402 [00:00<00:00, 153kB/s]\n",
      "Downloading: 100%|██████████| 229/229 [00:00<00:00, 203kB/s]\n"
     ]
    }
   ],
   "source": [
    "model = pkg_sentence_transformers.SentenceTransformer('sentence-transformers/paraphrase-multilingual-mpnet-base-v2')"
   ]
  },
  {
   "cell_type": "code",
   "execution_count": 3,
   "metadata": {},
   "outputs": [],
   "source": [
    "example_setences = [\n",
    "    \"This is an example sentence\", \"Each sentence is converted\",\n",
    "    \"Female variant of a King\",\n",
    "    \"Male variant of a Queen\",\n",
    "    \"King - Man + Woman\",\n",
    "    \"Queen - Woman + Man\"\n",
    "]"
   ]
  },
  {
   "cell_type": "code",
   "execution_count": 4,
   "metadata": {},
   "outputs": [
    {
     "name": "stdout",
     "output_type": "stream",
     "text": [
      "[[ 0.14317985 -0.23076151 -0.0139477  ...  0.03993537  0.10085303\n",
      "  -0.19941314]\n",
      " [ 0.03999365 -0.20410606 -0.01313243 ...  0.02634651 -0.2009619\n",
      "  -0.1451545 ]\n",
      " [ 0.22225717  0.09955163 -0.01340395 ...  0.03726595  0.09883071\n",
      "  -0.10138468]\n",
      " [ 0.178584   -0.05266086 -0.00940861 ...  0.03793804  0.1697631\n",
      "  -0.09795105]\n",
      " [-0.02551455  0.02660342 -0.00721409 ...  0.06929147  0.2228377\n",
      "  -0.0190311 ]\n",
      " [ 0.0928222   0.09201074 -0.00688029 ...  0.07411741  0.03241432\n",
      "   0.02721743]]\n"
     ]
    }
   ],
   "source": [
    "example_embeddings = model.encode(example_setences)\n",
    "print(example_embeddings)"
   ]
  }
 ],
 "metadata": {
  "kernelspec": {
   "display_name": "Python 3.8.10 64-bit",
   "language": "python",
   "name": "python3"
  },
  "language_info": {
   "codemirror_mode": {
    "name": "ipython",
    "version": 3
   },
   "file_extension": ".py",
   "mimetype": "text/x-python",
   "name": "python",
   "nbconvert_exporter": "python",
   "pygments_lexer": "ipython3",
   "version": "3.8.10"
  },
  "orig_nbformat": 4,
  "vscode": {
   "interpreter": {
    "hash": "916dbcbb3f70747c44a77c7bcd40155683ae19c65e1c03b4aa3499c5328201f1"
   }
  }
 },
 "nbformat": 4,
 "nbformat_minor": 2
}
