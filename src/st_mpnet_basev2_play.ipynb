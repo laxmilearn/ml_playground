{
 "cells": [
  {
   "cell_type": "markdown",
   "metadata": {},
   "source": [
    "## Sentence Transformation and Embeddings"
   ]
  },
  {
   "cell_type": "markdown",
   "metadata": {},
   "source": [
    "### Initialization"
   ]
  },
  {
   "cell_type": "markdown",
   "metadata": {},
   "source": [
    "#### Acknowledgements"
   ]
  },
  {
   "cell_type": "markdown",
   "metadata": {},
   "source": [
    "- https://huggingface.co/sentence-transformers/paraphrase-multilingual-mpnet-base-v2\n",
    "- https://www.kaggle.com/datasets/mauricerupp/englishspeaking-politicians (v6 Dataset)"
   ]
  },
  {
   "cell_type": "markdown",
   "metadata": {},
   "source": [
    "#### Packages"
   ]
  },
  {
   "cell_type": "code",
   "execution_count": 1,
   "metadata": {},
   "outputs": [],
   "source": [
    "import sentence_transformers as pkg_sentence_transformers\n",
    "import scipy.spatial.distance as pkg_distance\n",
    "import pandas as pkg_pandas\n",
    "import sklearn.model_selection as pkg_model_selection"
   ]
  },
  {
   "cell_type": "markdown",
   "metadata": {},
   "source": [
    "#### Common"
   ]
  },
  {
   "cell_type": "code",
   "execution_count": 2,
   "metadata": {},
   "outputs": [],
   "source": [
    "model_path = 'sentence-transformers/paraphrase-multilingual-mpnet-base-v2'\n",
    "model = pkg_sentence_transformers.SentenceTransformer(model_path)"
   ]
  },
  {
   "cell_type": "markdown",
   "metadata": {},
   "source": [
    "### Sample: Find Cosine Similiarity"
   ]
  },
  {
   "cell_type": "code",
   "execution_count": 3,
   "metadata": {},
   "outputs": [
    {
     "name": "stdout",
     "output_type": "stream",
     "text": [
      "Embedding/Vector Shape = (768,)\n",
      "Reference Sentence: That is a happy person\n",
      "Cosine Similiarity: 0.6686985492706299 for sentence = Sunny days make people happy\n",
      "Cosine Similiarity: 0.5185865163803101 for sentence = Rainy days make people happyRelationships enhance happiness\n",
      "Cosine Similiarity: 0.48634278774261475 for sentence = There is no happy person in the world. Happiness is misnomer\n",
      "Cosine Similiarity: 0.5353088974952698 for sentence = Mind free from tensions make a person happy\n",
      "Cosine Similiarity: 0.23558664321899414 for sentence = People on vacation at beach side over bright and sunny days\n",
      "Cosine Similiarity: 0.5658841729164124 for sentence = People kind at heart and wearing smile always\n",
      "Cosine Similiarity: 0.553466796875 for sentence = People having fun, laughing out loud, elevating the mood\n"
     ]
    }
   ],
   "source": [
    "# Reference Sentence\n",
    "ref_sentence = \"That is a happy person\"\n",
    "\n",
    "# Sentences we want compare with\n",
    "cmp_sentences = [\n",
    "    \"Sunny days make people happy\",\n",
    "    \"Rainy days make people happy\"\n",
    "    \"Relationships enhance happiness\",\n",
    "    \"There is no happy person in the world. Happiness is misnomer\",\n",
    "    \"Mind free from tensions make a person happy\",\n",
    "    \"People on vacation at beach side over bright and sunny days\",\n",
    "    \"People kind at heart and wearing smile always\",\n",
    "    \"People having fun, laughing out loud, elevating the mood\"\n",
    "]\n",
    "\n",
    "ref_embeddings = model.encode(sentences=[ref_sentence])\n",
    "print(\"Embedding/Vector Shape = {}\".format(ref_embeddings[0].shape))\n",
    "\n",
    "cmp_embeddings = model.encode(cmp_sentences)\n",
    "\n",
    "print (\"Reference Sentence: {}\".format(ref_sentence))\n",
    "for i in range(len(cmp_embeddings)):\n",
    "    similiarity = 1 - pkg_distance.cosine(ref_embeddings[0], cmp_embeddings[i])\n",
    "    print(\"Cosine Similiarity: {} for sentence = {}\".format(similiarity, cmp_sentences[i]))"
   ]
  },
  {
   "cell_type": "markdown",
   "metadata": {},
   "source": [
    "### Play: Find Similar Sentences"
   ]
  },
  {
   "cell_type": "markdown",
   "metadata": {},
   "source": [
    "#### Load Data"
   ]
  },
  {
   "cell_type": "code",
   "execution_count": 4,
   "metadata": {},
   "outputs": [
    {
     "data": {
      "text/html": [
       "<div>\n",
       "<style scoped>\n",
       "    .dataframe tbody tr th:only-of-type {\n",
       "        vertical-align: middle;\n",
       "    }\n",
       "\n",
       "    .dataframe tbody tr th {\n",
       "        vertical-align: top;\n",
       "    }\n",
       "\n",
       "    .dataframe thead th {\n",
       "        text-align: right;\n",
       "    }\n",
       "</style>\n",
       "<table border=\"1\" class=\"dataframe\">\n",
       "  <thead>\n",
       "    <tr style=\"text-align: right;\">\n",
       "      <th></th>\n",
       "      <th>Author</th>\n",
       "      <th>Country</th>\n",
       "      <th>Date</th>\n",
       "      <th>Speech</th>\n",
       "      <th>Title</th>\n",
       "      <th>URL</th>\n",
       "    </tr>\n",
       "  </thead>\n",
       "  <tbody>\n",
       "    <tr>\n",
       "      <th>0</th>\n",
       "      <td>Justin Trudeau</td>\n",
       "      <td>Canada</td>\n",
       "      <td>2020-10-20</td>\n",
       "      <td>Good morning, everyone.\\nI’m happy to be here ...</td>\n",
       "      <td>Prime Minister’s remarks on Small Business Wee...</td>\n",
       "      <td>https://pm.gc.ca/en/news/speeches/2020/10/20/p...</td>\n",
       "    </tr>\n",
       "    <tr>\n",
       "      <th>1</th>\n",
       "      <td>Justin Trudeau</td>\n",
       "      <td>Canada</td>\n",
       "      <td>2020-10-16</td>\n",
       "      <td>Hello. Good morning everyone.\\nI’m pleased to ...</td>\n",
       "      <td>Prime Minister’s remarks on the measures taken...</td>\n",
       "      <td>https://pm.gc.ca/en/news/speeches/2020/10/16/p...</td>\n",
       "    </tr>\n",
       "    <tr>\n",
       "      <th>2</th>\n",
       "      <td>Justin Trudeau</td>\n",
       "      <td>Canada</td>\n",
       "      <td>2020-10-13</td>\n",
       "      <td>Hello everyone.\\nIt’s good to be here this mor...</td>\n",
       "      <td>Prime Minister’s remarks on COVID-19 testing a...</td>\n",
       "      <td>https://pm.gc.ca/en/news/speeches/2020/10/13/p...</td>\n",
       "    </tr>\n",
       "    <tr>\n",
       "      <th>3</th>\n",
       "      <td>Justin Trudeau</td>\n",
       "      <td>Canada</td>\n",
       "      <td>2020-10-09</td>\n",
       "      <td>Hello everyone.\\nI’m happy to be joined today ...</td>\n",
       "      <td>Prime Minister’s remarks on support for Canadi...</td>\n",
       "      <td>https://pm.gc.ca/en/news/speeches/2020/10/09/p...</td>\n",
       "    </tr>\n",
       "    <tr>\n",
       "      <th>4</th>\n",
       "      <td>Justin Trudeau</td>\n",
       "      <td>Canada</td>\n",
       "      <td>2020-10-08</td>\n",
       "      <td>Hello everyone.\\nThank you, Minister Bains. It...</td>\n",
       "      <td>Prime Minister’s remarks on a new commitment t...</td>\n",
       "      <td>https://pm.gc.ca/en/news/speeches/2020/10/08/p...</td>\n",
       "    </tr>\n",
       "  </tbody>\n",
       "</table>\n",
       "</div>"
      ],
      "text/plain": [
       "           Author Country        Date  \\\n",
       "0  Justin Trudeau  Canada  2020-10-20   \n",
       "1  Justin Trudeau  Canada  2020-10-16   \n",
       "2  Justin Trudeau  Canada  2020-10-13   \n",
       "3  Justin Trudeau  Canada  2020-10-09   \n",
       "4  Justin Trudeau  Canada  2020-10-08   \n",
       "\n",
       "                                              Speech  \\\n",
       "0  Good morning, everyone.\\nI’m happy to be here ...   \n",
       "1  Hello. Good morning everyone.\\nI’m pleased to ...   \n",
       "2  Hello everyone.\\nIt’s good to be here this mor...   \n",
       "3  Hello everyone.\\nI’m happy to be joined today ...   \n",
       "4  Hello everyone.\\nThank you, Minister Bains. It...   \n",
       "\n",
       "                                               Title  \\\n",
       "0  Prime Minister’s remarks on Small Business Wee...   \n",
       "1  Prime Minister’s remarks on the measures taken...   \n",
       "2  Prime Minister’s remarks on COVID-19 testing a...   \n",
       "3  Prime Minister’s remarks on support for Canadi...   \n",
       "4  Prime Minister’s remarks on a new commitment t...   \n",
       "\n",
       "                                                 URL  \n",
       "0  https://pm.gc.ca/en/news/speeches/2020/10/20/p...  \n",
       "1  https://pm.gc.ca/en/news/speeches/2020/10/16/p...  \n",
       "2  https://pm.gc.ca/en/news/speeches/2020/10/13/p...  \n",
       "3  https://pm.gc.ca/en/news/speeches/2020/10/09/p...  \n",
       "4  https://pm.gc.ca/en/news/speeches/2020/10/08/p...  "
      ]
     },
     "execution_count": 4,
     "metadata": {},
     "output_type": "execute_result"
    }
   ],
   "source": [
    "baseline_df = pkg_pandas.read_csv(\"../data/kaggle/datasets/english-speaking-politicians-v6_0.csv.gz\", compression='gzip', on_bad_lines='skip')\n",
    "baseline_inputs = baseline_df\n",
    "baseline_inputs.head()"
   ]
  },
  {
   "cell_type": "code",
   "execution_count": 5,
   "metadata": {},
   "outputs": [
    {
     "name": "stdout",
     "output_type": "stream",
     "text": [
      "=== Baseline Split - Train and Test ===\n",
      "Lengths: Baseline = 9567, Train = 191, Test = 9376\n"
     ]
    }
   ],
   "source": [
    "# This dataset contains 9567 samples, train_size of 2% means roughly 191 samples\n",
    "train_inputs, test_inputs = pkg_model_selection.train_test_split(baseline_inputs, train_size=0.02)\n",
    "\n",
    "print(\"=== Baseline Split - Train and Test ===\")\n",
    "print(\"Lengths: Baseline = {}, Train = {}, Test = {}\".format(len(baseline_inputs), len(train_inputs), len(test_inputs)))"
   ]
  },
  {
   "cell_type": "code",
   "execution_count": 6,
   "metadata": {},
   "outputs": [],
   "source": [
    "# Persist the train samples as these are the ones we refer to using an index\n",
    "train_inputs.to_csv(\"../.outputs/persisted/st_mpnet_basev2_sample_sentences.csv\", index=False)"
   ]
  },
  {
   "cell_type": "markdown",
   "metadata": {},
   "source": [
    "#### Process"
   ]
  },
  {
   "cell_type": "code",
   "execution_count": 7,
   "metadata": {},
   "outputs": [
    {
     "data": {
      "text/plain": [
       "(191, 768)"
      ]
     },
     "execution_count": 7,
     "metadata": {},
     "output_type": "execute_result"
    }
   ],
   "source": [
    "# Calculate Sentence Embeddings\n",
    "# (Assume order is preserved)\n",
    "train_embeddings = model.encode(train_inputs.Speech.array)\n",
    "train_embeddings.shape"
   ]
  },
  {
   "cell_type": "code",
   "execution_count": 8,
   "metadata": {},
   "outputs": [
    {
     "data": {
      "text/html": [
       "<div>\n",
       "<style scoped>\n",
       "    .dataframe tbody tr th:only-of-type {\n",
       "        vertical-align: middle;\n",
       "    }\n",
       "\n",
       "    .dataframe tbody tr th {\n",
       "        vertical-align: top;\n",
       "    }\n",
       "\n",
       "    .dataframe thead th {\n",
       "        text-align: right;\n",
       "    }\n",
       "</style>\n",
       "<table border=\"1\" class=\"dataframe\">\n",
       "  <thead>\n",
       "    <tr style=\"text-align: right;\">\n",
       "      <th></th>\n",
       "      <th>i</th>\n",
       "      <th>j</th>\n",
       "      <th>cosine_distance</th>\n",
       "      <th>euclidean_distance</th>\n",
       "    </tr>\n",
       "  </thead>\n",
       "  <tbody>\n",
       "    <tr>\n",
       "      <th>0</th>\n",
       "      <td>0.0</td>\n",
       "      <td>1.0</td>\n",
       "      <td>0.697709</td>\n",
       "      <td>3.262460</td>\n",
       "    </tr>\n",
       "    <tr>\n",
       "      <th>1</th>\n",
       "      <td>0.0</td>\n",
       "      <td>2.0</td>\n",
       "      <td>0.612179</td>\n",
       "      <td>3.035995</td>\n",
       "    </tr>\n",
       "    <tr>\n",
       "      <th>2</th>\n",
       "      <td>0.0</td>\n",
       "      <td>3.0</td>\n",
       "      <td>0.717433</td>\n",
       "      <td>3.324870</td>\n",
       "    </tr>\n",
       "    <tr>\n",
       "      <th>3</th>\n",
       "      <td>0.0</td>\n",
       "      <td>4.0</td>\n",
       "      <td>0.619551</td>\n",
       "      <td>2.997704</td>\n",
       "    </tr>\n",
       "    <tr>\n",
       "      <th>4</th>\n",
       "      <td>0.0</td>\n",
       "      <td>5.0</td>\n",
       "      <td>0.620591</td>\n",
       "      <td>3.029624</td>\n",
       "    </tr>\n",
       "  </tbody>\n",
       "</table>\n",
       "</div>"
      ],
      "text/plain": [
       "     i    j  cosine_distance  euclidean_distance\n",
       "0  0.0  1.0         0.697709            3.262460\n",
       "1  0.0  2.0         0.612179            3.035995\n",
       "2  0.0  3.0         0.717433            3.324870\n",
       "3  0.0  4.0         0.619551            2.997704\n",
       "4  0.0  5.0         0.620591            3.029624"
      ]
     },
     "execution_count": 8,
     "metadata": {},
     "output_type": "execute_result"
    }
   ],
   "source": [
    "# Calculate Distances/Similarities\n",
    "similarites_df = pkg_pandas.DataFrame(columns=[\"i\", \"j\", \"cosine_distance\", \"euclidean_distance\"])\n",
    "\n",
    "for i in range(len(train_embeddings)):\n",
    "    for j in range(len(train_embeddings)-i-1):\n",
    "        # Do not compare various speeches of same author (bias removal?) \n",
    "        if (train_inputs.iloc[i].Author != train_inputs.iloc[j].Author):\n",
    "            cosine_distance = pkg_distance.cosine(train_embeddings[i], train_embeddings[i+j+1])\n",
    "            euclidean_distance = pkg_distance.euclidean(train_embeddings[i], train_embeddings[i+j+1])\n",
    "            similarites_df.loc[len(similarites_df)] = [i, j, cosine_distance, euclidean_distance]\n",
    "\n",
    "similarites_df.head()"
   ]
  },
  {
   "cell_type": "code",
   "execution_count": 9,
   "metadata": {},
   "outputs": [
    {
     "data": {
      "text/html": [
       "<div>\n",
       "<style scoped>\n",
       "    .dataframe tbody tr th:only-of-type {\n",
       "        vertical-align: middle;\n",
       "    }\n",
       "\n",
       "    .dataframe tbody tr th {\n",
       "        vertical-align: top;\n",
       "    }\n",
       "\n",
       "    .dataframe thead th {\n",
       "        text-align: right;\n",
       "    }\n",
       "</style>\n",
       "<table border=\"1\" class=\"dataframe\">\n",
       "  <thead>\n",
       "    <tr style=\"text-align: right;\">\n",
       "      <th></th>\n",
       "      <th>i</th>\n",
       "      <th>j</th>\n",
       "      <th>cosine_distance</th>\n",
       "      <th>euclidean_distance</th>\n",
       "    </tr>\n",
       "  </thead>\n",
       "  <tbody>\n",
       "    <tr>\n",
       "      <th>22</th>\n",
       "      <td>0.0</td>\n",
       "      <td>23.0</td>\n",
       "      <td>0.393853</td>\n",
       "      <td>2.384844</td>\n",
       "    </tr>\n",
       "    <tr>\n",
       "      <th>49</th>\n",
       "      <td>0.0</td>\n",
       "      <td>50.0</td>\n",
       "      <td>0.368908</td>\n",
       "      <td>2.339922</td>\n",
       "    </tr>\n",
       "    <tr>\n",
       "      <th>201</th>\n",
       "      <td>1.0</td>\n",
       "      <td>13.0</td>\n",
       "      <td>0.265744</td>\n",
       "      <td>2.093289</td>\n",
       "    </tr>\n",
       "    <tr>\n",
       "      <th>237</th>\n",
       "      <td>1.0</td>\n",
       "      <td>49.0</td>\n",
       "      <td>0.249490</td>\n",
       "      <td>2.013427</td>\n",
       "    </tr>\n",
       "    <tr>\n",
       "      <th>239</th>\n",
       "      <td>1.0</td>\n",
       "      <td>51.0</td>\n",
       "      <td>0.322221</td>\n",
       "      <td>2.250472</td>\n",
       "    </tr>\n",
       "  </tbody>\n",
       "</table>\n",
       "</div>"
      ],
      "text/plain": [
       "       i     j  cosine_distance  euclidean_distance\n",
       "22   0.0  23.0         0.393853            2.384844\n",
       "49   0.0  50.0         0.368908            2.339922\n",
       "201  1.0  13.0         0.265744            2.093289\n",
       "237  1.0  49.0         0.249490            2.013427\n",
       "239  1.0  51.0         0.322221            2.250472"
      ]
     },
     "execution_count": 9,
     "metadata": {},
     "output_type": "execute_result"
    }
   ],
   "source": [
    "# Filter rows that have less than 40% cosine distance\n",
    "similarites_df = similarites_df[(similarites_df[\"cosine_distance\"] < 0.40)]\n",
    "similarites_df.head()"
   ]
  },
  {
   "cell_type": "code",
   "execution_count": 10,
   "metadata": {},
   "outputs": [
    {
     "data": {
      "text/html": [
       "<div>\n",
       "<style scoped>\n",
       "    .dataframe tbody tr th:only-of-type {\n",
       "        vertical-align: middle;\n",
       "    }\n",
       "\n",
       "    .dataframe tbody tr th {\n",
       "        vertical-align: top;\n",
       "    }\n",
       "\n",
       "    .dataframe thead th {\n",
       "        text-align: right;\n",
       "    }\n",
       "</style>\n",
       "<table border=\"1\" class=\"dataframe\">\n",
       "  <thead>\n",
       "    <tr style=\"text-align: right;\">\n",
       "      <th></th>\n",
       "      <th>i</th>\n",
       "      <th>j</th>\n",
       "      <th>cosine_distance</th>\n",
       "      <th>euclidean_distance</th>\n",
       "    </tr>\n",
       "  </thead>\n",
       "  <tbody>\n",
       "    <tr>\n",
       "      <th>2293</th>\n",
       "      <td>14.0</td>\n",
       "      <td>102.0</td>\n",
       "      <td>0.085004</td>\n",
       "      <td>1.152188</td>\n",
       "    </tr>\n",
       "    <tr>\n",
       "      <th>15066</th>\n",
       "      <td>153.0</td>\n",
       "      <td>30.0</td>\n",
       "      <td>0.157777</td>\n",
       "      <td>1.645235</td>\n",
       "    </tr>\n",
       "    <tr>\n",
       "      <th>7382</th>\n",
       "      <td>51.0</td>\n",
       "      <td>133.0</td>\n",
       "      <td>0.176266</td>\n",
       "      <td>1.628031</td>\n",
       "    </tr>\n",
       "    <tr>\n",
       "      <th>14309</th>\n",
       "      <td>133.0</td>\n",
       "      <td>17.0</td>\n",
       "      <td>0.186630</td>\n",
       "      <td>1.690782</td>\n",
       "    </tr>\n",
       "    <tr>\n",
       "      <th>4675</th>\n",
       "      <td>30.0</td>\n",
       "      <td>150.0</td>\n",
       "      <td>0.190413</td>\n",
       "      <td>1.744928</td>\n",
       "    </tr>\n",
       "  </tbody>\n",
       "</table>\n",
       "</div>"
      ],
      "text/plain": [
       "           i      j  cosine_distance  euclidean_distance\n",
       "2293    14.0  102.0         0.085004            1.152188\n",
       "15066  153.0   30.0         0.157777            1.645235\n",
       "7382    51.0  133.0         0.176266            1.628031\n",
       "14309  133.0   17.0         0.186630            1.690782\n",
       "4675    30.0  150.0         0.190413            1.744928"
      ]
     },
     "execution_count": 10,
     "metadata": {},
     "output_type": "execute_result"
    }
   ],
   "source": [
    "# Sort using similarity\n",
    "similarites_df.sort_values(by=[\"cosine_distance\", \"euclidean_distance\"], ascending=True, inplace=True)\n",
    "similarites_df.to_csv(\"../.outputs/persisted/st_mpnet_basev2_similar_sentences.csv\", index=False)\n",
    "similarites_df.head()"
   ]
  }
 ],
 "metadata": {
  "kernelspec": {
   "display_name": "Python 3.8.10 64-bit",
   "language": "python",
   "name": "python3"
  },
  "language_info": {
   "codemirror_mode": {
    "name": "ipython",
    "version": 3
   },
   "file_extension": ".py",
   "mimetype": "text/x-python",
   "name": "python",
   "nbconvert_exporter": "python",
   "pygments_lexer": "ipython3",
   "version": "3.8.10"
  },
  "orig_nbformat": 4,
  "vscode": {
   "interpreter": {
    "hash": "916dbcbb3f70747c44a77c7bcd40155683ae19c65e1c03b4aa3499c5328201f1"
   }
  }
 },
 "nbformat": 4,
 "nbformat_minor": 2
}
