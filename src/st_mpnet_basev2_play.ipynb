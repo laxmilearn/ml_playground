{
 "cells": [
  {
   "cell_type": "markdown",
   "metadata": {},
   "source": [
    "#### Sentence Transformation and Embeddings"
   ]
  },
  {
   "cell_type": "markdown",
   "metadata": {},
   "source": [
    "#### Acknowledgements"
   ]
  },
  {
   "cell_type": "markdown",
   "metadata": {},
   "source": [
    "- https://huggingface.co/sentence-transformers/paraphrase-multilingual-mpnet-base-v2"
   ]
  },
  {
   "cell_type": "markdown",
   "metadata": {},
   "source": [
    "#### Packages"
   ]
  },
  {
   "cell_type": "code",
   "execution_count": 1,
   "metadata": {},
   "outputs": [],
   "source": [
    "import sentence_transformers as pkg_sentence_transformers\n",
    "import scipy.spatial as pkg_spatial"
   ]
  },
  {
   "cell_type": "markdown",
   "metadata": {},
   "source": [
    "#### Common"
   ]
  },
  {
   "cell_type": "code",
   "execution_count": 2,
   "metadata": {},
   "outputs": [],
   "source": [
    "model_path = 'sentence-transformers/paraphrase-multilingual-mpnet-base-v2'\n",
    "model = pkg_sentence_transformers.SentenceTransformer(model_path)"
   ]
  },
  {
   "cell_type": "code",
   "execution_count": 3,
   "metadata": {},
   "outputs": [],
   "source": [
    "cosine_similarity = lambda x,y: (1 - pkg_spatial.distance.cosine(x,y))"
   ]
  },
  {
   "cell_type": "markdown",
   "metadata": {},
   "source": [
    "#### Work"
   ]
  },
  {
   "cell_type": "code",
   "execution_count": 4,
   "metadata": {},
   "outputs": [],
   "source": [
    "# Reference Sentence\n",
    "ref_sentence = \"That is a happy person\""
   ]
  },
  {
   "cell_type": "markdown",
   "metadata": {},
   "source": [
    "##### Find Similiarity"
   ]
  },
  {
   "cell_type": "code",
   "execution_count": 5,
   "metadata": {},
   "outputs": [
    {
     "name": "stdout",
     "output_type": "stream",
     "text": [
      "Reference Sentence: That is a happy person\n",
      "Similiarity: 0.6686985492706299 for sentence = Sunny days make people happy\n",
      "Similiarity: 0.5185865163803101 for sentence = Rainy days make people happyRelationships enhance happiness\n",
      "Similiarity: 0.48634278774261475 for sentence = There is no happy person in the world. Happiness is misnomer\n",
      "Similiarity: 0.5353088974952698 for sentence = Mind free from tensions make a person happy\n"
     ]
    }
   ],
   "source": [
    "# Sentences we want compare with\n",
    "cmp_sentences = [\n",
    "    \"Sunny days make people happy\",\n",
    "    \"Rainy days make people happy\"\n",
    "    \"Relationships enhance happiness\",\n",
    "    \"There is no happy person in the world. Happiness is misnomer\",\n",
    "    \"Mind free from tensions make a person happy\"\n",
    "]\n",
    "\n",
    "ref_embeddings = model.encode(sentences=[ref_sentence])\n",
    "cmp_embeddings = model.encode(cmp_sentences)\n",
    "\n",
    "print (\"Reference Sentence: {}\".format(ref_sentence))\n",
    "for i in range(len(cmp_embeddings)):\n",
    "    similiarity = cosine_similarity(ref_embeddings[0], cmp_embeddings[i])\n",
    "    print(\"Similiarity: {} for sentence = {}\".format(similiarity, cmp_sentences[i]))"
   ]
  }
 ],
 "metadata": {
  "kernelspec": {
   "display_name": "Python 3.8.10 64-bit",
   "language": "python",
   "name": "python3"
  },
  "language_info": {
   "codemirror_mode": {
    "name": "ipython",
    "version": 3
   },
   "file_extension": ".py",
   "mimetype": "text/x-python",
   "name": "python",
   "nbconvert_exporter": "python",
   "pygments_lexer": "ipython3",
   "version": "3.8.10"
  },
  "orig_nbformat": 4,
  "vscode": {
   "interpreter": {
    "hash": "916dbcbb3f70747c44a77c7bcd40155683ae19c65e1c03b4aa3499c5328201f1"
   }
  }
 },
 "nbformat": 4,
 "nbformat_minor": 2
}
